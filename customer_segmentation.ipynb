{
 "cells": [
  {
   "cell_type": "markdown",
   "id": "3f870d7582b39c9a",
   "metadata": {},
   "source": [
    "# CUSTOMER SEGMENTATION PROJECT\n",
    "\n",
    "### PROJECT GOAL:\n",
    "The goal of this project is cluster the customers into different groups\n",
    "based on their spending behavioural pattern. This will help understand\n",
    "the taste of each customers and will help the company to target each customer with the right advert, product and service."
   ]
  },
  {
   "cell_type": "code",
   "execution_count": 18,
   "id": "db23daec4b1c9f6b",
   "metadata": {
    "ExecuteTime": {
     "end_time": "2024-05-06T13:37:54.921587Z",
     "start_time": "2024-05-06T13:37:54.907719Z"
    }
   },
   "outputs": [],
   "source": [
    "# data wrangling libraries\n",
    "import pandas as pd\n",
    "import numpy as np\n",
    "\n",
    "# visualization libraries\n",
    "import matplotlib.pyplot as plt\n",
    "import seaborn as sns\n",
    "import plotly.express as px\n",
    "\n",
    "# data modelling and statistical analysis library\n",
    "from scipy import stats\n",
    "from sklearn.decomposition import PCA\n",
    "from sklearn.preprocessing import StandardScaler,LabelEncoder\n",
    "from sklearn.cluster import k_means,dbscan\n"
   ]
  },
  {
   "cell_type": "code",
   "execution_count": 19,
   "id": "2bb55d1912986f26",
   "metadata": {
    "ExecuteTime": {
     "end_time": "2024-05-06T13:15:49.578018Z",
     "start_time": "2024-05-06T13:15:49.543972Z"
    }
   },
   "outputs": [],
   "source": [
    "data = pd.read_csv('cleaned_marketing.csv')"
   ]
  },
  {
   "cell_type": "code",
   "execution_count": 21,
   "id": "4af6c3b60406180b",
   "metadata": {
    "ExecuteTime": {
     "end_time": "2024-05-06T12:55:01.987730Z",
     "start_time": "2024-05-06T12:55:01.845538Z"
    }
   },
   "outputs": [],
   "source": [
    "data.head()"
   ]
  },
  {
   "cell_type": "code",
   "execution_count": 4,
   "id": "be80598bc42b8ea2",
   "metadata": {
    "ExecuteTime": {
     "end_time": "2024-05-06T13:05:53.156275Z",
     "start_time": "2024-05-06T13:05:53.141532Z"
    }
   },
   "outputs": [],
   "source": [
    "# check the columns\n",
    "data.columns"
   ]
  },
  {
   "cell_type": "code",
   "execution_count": 5,
   "id": "8f267b09916a958b",
   "metadata": {
    "ExecuteTime": {
     "end_time": "2024-05-06T13:15:54.866245Z",
     "start_time": "2024-05-06T13:15:54.856253Z"
    }
   },
   "outputs": [],
   "source": [
    "# drop the unnecesary columns\n",
    "\n",
    "data.drop(columns= ['ID','Dt_Customer'], inplace=True)"
   ]
  },
  {
   "cell_type": "code",
   "execution_count": 6,
   "id": "e64a5c7fa92451ca",
   "metadata": {
    "ExecuteTime": {
     "end_time": "2024-05-06T13:20:37.907804Z",
     "start_time": "2024-05-06T13:20:37.879685Z"
    }
   },
   "outputs": [],
   "source": [
    "# check the datatypes of each column and null values\n",
    "\n",
    "data.info()"
   ]
  },
  {
   "cell_type": "code",
   "execution_count": 7,
   "id": "9f21d779ff350037",
   "metadata": {
    "ExecuteTime": {
     "end_time": "2024-05-06T13:10:06.726978Z",
     "start_time": "2024-05-06T13:10:06.705836Z"
    }
   },
   "outputs": [],
   "source": [
    "# doublecheck the null values \n",
    "\n",
    "data.isnull().sum()"
   ]
  },
  {
   "cell_type": "code",
   "execution_count": 8,
   "id": "e00345127b34aed4",
   "metadata": {
    "ExecuteTime": {
     "end_time": "2024-05-06T13:16:02.627290Z",
     "start_time": "2024-05-06T13:16:02.612212Z"
    }
   },
   "outputs": [],
   "source": [
    "# generate age column, drop year_birth, handle data type issues\n",
    "\n",
    "data['age'] = [2024 - x for x in data['Year_Birth']] # create age\n",
    "data.drop(columns=['Year_Birth'], inplace=True) # drop year of birth\n"
   ]
  },
  {
   "cell_type": "code",
   "execution_count": 9,
   "id": "1be619c6b5a38318",
   "metadata": {
    "ExecuteTime": {
     "end_time": "2024-05-06T13:20:21.229582Z",
     "start_time": "2024-05-06T13:20:21.192446Z"
    }
   },
   "outputs": [],
   "source": [
    "# converting columns to integer\n",
    "data = data[data['Income'] != ' ']\n",
    "data.reset_index(drop = True, inplace = True)\n",
    "\n",
    "data = data.astype({\n",
    "    'Income': 'int'\n",
    "})"
   ]
  },
  {
   "cell_type": "code",
   "execution_count": 10,
   "id": "b6537cfd8b3082f6",
   "metadata": {
    "ExecuteTime": {
     "end_time": "2024-05-06T13:33:32.189809Z",
     "start_time": "2024-05-06T13:33:32.172210Z"
    }
   },
   "outputs": [],
   "source": [
    "# inspecting the categorical columns\n",
    "\n",
    "data['Education'].unique()\n",
    "data['Marital_Status'].value_counts()"
   ]
  },
  {
   "cell_type": "code",
   "execution_count": 11,
   "id": "768ce5e7133cbee3",
   "metadata": {
    "ExecuteTime": {
     "end_time": "2024-05-06T13:33:16.382484Z",
     "start_time": "2024-05-06T13:33:16.369533Z"
    }
   },
   "outputs": [],
   "source": [
    "data['Marital_Status'] = ['single' if x in ['YOLO','Absurd','Alone','Single'] else x for x in data['Marital_Status']]"
   ]
  },
  {
   "cell_type": "code",
   "execution_count": 12,
   "id": "9a102bab32fb509f",
   "metadata": {
    "ExecuteTime": {
     "end_time": "2024-05-06T13:43:57.854594Z",
     "start_time": "2024-05-06T13:43:57.839935Z"
    }
   },
   "outputs": [],
   "source": [
    "cat_cols = ['Marital_Status','Education']\n",
    "encoder = LabelEncoder()\n",
    "for cols in cat_cols:\n",
    "    data[f'{cols}_nums'] = encoder.fit_transform(data[cols])"
   ]
  },
  {
   "cell_type": "code",
   "execution_count": 13,
   "id": "856cf2e4d5a713a3",
   "metadata": {
    "ExecuteTime": {
     "end_time": "2024-05-06T13:44:07.913491Z",
     "start_time": "2024-05-06T13:44:07.877286Z"
    }
   },
   "outputs": [],
   "source": [
    "data.head()"
   ]
  },
  {
   "cell_type": "code",
   "execution_count": 14,
   "id": "8c05c6e449490b4c",
   "metadata": {
    "ExecuteTime": {
     "end_time": "2024-05-06T13:53:56.254015Z",
     "start_time": "2024-05-06T13:53:56.240437Z"
    }
   },
   "outputs": [],
   "source": [
    "final_data = data.drop(columns = cat_cols)"
   ]
  },
  {
   "cell_type": "code",
   "execution_count": 15,
   "id": "f02317a8a38c323b",
   "metadata": {
    "ExecuteTime": {
     "end_time": "2024-05-06T14:10:38.575993Z",
     "start_time": "2024-05-06T14:10:38.347117Z"
    }
   },
   "outputs": [],
   "source": [
    "# modelling the data\n",
    "\n",
    "scaler = StandardScaler()\n",
    "scaled_df = scaler.fit_transform(final_data)\n",
    "final_data = pd.DataFrame(data=scaled_df, columns=final_data.columns)\n",
    "pca = PCA(n_components= 3)\n",
    "columns = ['col1','col2','col3']\n",
    "scaled_df = pca.fit_transform(final_data)\n",
    "scaled_df = pd.DataFrame(data=scaled_df, columns=columns)"
   ]
  },
  {
   "cell_type": "code",
   "execution_count": 16,
   "id": "96884111a3271173",
   "metadata": {
    "ExecuteTime": {
     "end_time": "2024-05-06T14:17:34.890137Z",
     "start_time": "2024-05-06T14:17:34.722506Z"
    }
   },
   "outputs": [],
   "source": [
    "px.scatter_3d(data_frame=scaled_df, x = 'col1', y = 'col2', z = 'col3',\n",
    "              color= predictions)"
   ]
  },
  {
   "cell_type": "code",
   "execution_count": null,
   "id": "63b1536ce4c49197",
   "metadata": {
    "ExecuteTime": {
     "end_time": "2024-05-06T14:15:43.954185Z",
     "start_time": "2024-05-06T14:15:42.694274Z"
    }
   },
   "outputs": [],
   "source": [
    "# clustering \n",
    "\n",
    "kmeans = k_means(X = scaled_df, n_clusters=4,n_init= 'auto')"
   ]
  },
  {
   "cell_type": "code",
   "execution_count": null,
   "id": "f4549f684a8dcc63",
   "metadata": {
    "ExecuteTime": {
     "end_time": "2024-05-06T14:17:18.012932Z",
     "start_time": "2024-05-06T14:17:18.000371Z"
    }
   },
   "outputs": [],
   "source": [
    "predictions = kmeans[1]"
   ]
  },
  {
   "cell_type": "code",
   "execution_count": null,
   "id": "d0f04fc6db01f88b",
   "metadata": {
    "ExecuteTime": {
     "end_time": "2024-05-06T14:23:03.853836Z",
     "start_time": "2024-05-06T14:23:03.702196Z"
    }
   },
   "outputs": [],
   "source": [
    "data['clusters'] = ['cl1' if x == 1 else 'cl2' if x == 2 else\n",
    "                    'cl3' if x == 3 else 'cl4' for x in predictions]\n",
    "px.histogram(data_frame=data, x = 'clusters', y = 'Income',\n",
    "             histfunc='avg', color = 'Education', barmode='group')\n"
   ]
  },
  {
   "cell_type": "code",
   "execution_count": null,
   "id": "17561b9426fd9f0",
   "metadata": {
    "ExecuteTime": {
     "end_time": "2024-05-06T14:24:19.138882Z",
     "start_time": "2024-05-06T14:24:18.984939Z"
    }
   },
   "outputs": [],
   "source": [
    "px.histogram(data_frame=data, x = 'clusters', y = 'Z_Revenue',\n",
    "             histfunc='avg', color = 'clusters')"
   ]
  },
  {
   "cell_type": "code",
   "execution_count": 22,
   "id": "7ee4fd750cedc5b8",
   "metadata": {
    "ExecuteTime": {
     "end_time": "2024-05-06T14:25:06.969650Z",
     "start_time": "2024-05-06T14:25:06.762656Z"
    }
   },
   "outputs": [],
   "source": []
  },
  {
   "cell_type": "code",
   "execution_count": null,
   "id": "7e52cb526fb51ddb",
   "metadata": {},
   "outputs": [],
   "source": []
  }
 ],
 "metadata": {
  "kernelspec": {
   "display_name": "Python 3 (ipykernel)",
   "language": "python",
   "name": "python3"
  },
  "language_info": {
   "codemirror_mode": {
    "name": "ipython",
    "version": 3
   },
   "file_extension": ".py",
   "mimetype": "text/x-python",
   "name": "python",
   "nbconvert_exporter": "python",
   "pygments_lexer": "ipython3",
   "version": "3.11.3"
  }
 },
 "nbformat": 4,
 "nbformat_minor": 5
}
